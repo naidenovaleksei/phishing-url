{
 "cells": [
  {
   "cell_type": "code",
   "execution_count": 1,
   "metadata": {
    "collapsed": true
   },
   "outputs": [],
   "source": [
    "import pandas as pd"
   ]
  },
  {
   "cell_type": "code",
   "execution_count": 27,
   "metadata": {
    "collapsed": false,
    "scrolled": true
   },
   "outputs": [],
   "source": [
    "from sklearn.linear_model import LogisticRegression\n",
    "from sklearn.cross_validation import cross_val_score"
   ]
  },
  {
   "cell_type": "code",
   "execution_count": 10,
   "metadata": {
    "collapsed": false,
    "scrolled": true
   },
   "outputs": [],
   "source": [
    "df = pd.read_csv(\"../../data/data_ngramms.csv\")"
   ]
  },
  {
   "cell_type": "code",
   "execution_count": 23,
   "metadata": {
    "collapsed": true
   },
   "outputs": [],
   "source": [
    "target_col = u'safe'\n",
    "used_cols = [u'template', u'includeLogin',\n",
    "       u'includeSecure', u'includeUpdate', u'includeAccount', u'useHttps',\n",
    "       u'dotsCount', u'workMonths', \n",
    "       # ngrams\n",
    "       u'pro', u'one', u'ver', u'adm', u'age', u'log', u'index', u'image',\n",
    "       u'admin', u'login', u'images', u'update', u'secure', u'google',\n",
    "       u'include', u'content', u'dropbox', u'service', u'/index', u'tc=true',\n",
    "       u'includes', u'/images/', u'-content', u'/dropbox', u'dropbox/',\n",
    "       u'document', u'p-include', u'-includes', u'-content/', u'/dropbox/',\n",
    "       u'index.', u'/image', u'admin/', u'wp-include', u'wp-content',\n",
    "       u'/wp-admin/', u'/wp-include', u'/wp-content', u'wp', u'/wp-admin',\n",
    "       u'wp-admin/', u'wp-admin', u'true', u'false']"
   ]
  },
  {
   "cell_type": "code",
   "execution_count": 24,
   "metadata": {
    "collapsed": false,
    "scrolled": true
   },
   "outputs": [],
   "source": [
    "y = df[target_col]\n",
    "X = df[used_cols]"
   ]
  },
  {
   "cell_type": "code",
   "execution_count": 33,
   "metadata": {
    "collapsed": true
   },
   "outputs": [],
   "source": [
    "lr = LogisticRegression(random_state=42)"
   ]
  },
  {
   "cell_type": "code",
   "execution_count": 34,
   "metadata": {
    "collapsed": false
   },
   "outputs": [
    {
     "data": {
      "text/plain": [
       "array([ 0.980512  ,  0.98908856,  0.98865243,  0.98737695])"
      ]
     },
     "execution_count": 34,
     "metadata": {},
     "output_type": "execute_result"
    }
   ],
   "source": [
    "cross_val_score(lr, X, y, cv=4, scoring='roc_auc')"
   ]
  }
 ],
 "metadata": {
  "kernelspec": {
   "display_name": "Python [Root]",
   "language": "python",
   "name": "Python [Root]"
  },
  "language_info": {
   "codemirror_mode": {
    "name": "ipython",
    "version": 2
   },
   "file_extension": ".py",
   "mimetype": "text/x-python",
   "name": "python",
   "nbconvert_exporter": "python",
   "pygments_lexer": "ipython2",
   "version": "2.7.12"
  }
 },
 "nbformat": 4,
 "nbformat_minor": 0
}
